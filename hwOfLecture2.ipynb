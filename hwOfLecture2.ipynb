{
  "nbformat": 4,
  "nbformat_minor": 0,
  "metadata": {
    "colab": {
      "name": "hwOfLecture2.ipynb",
      "provenance": [],
      "collapsed_sections": [],
      "include_colab_link": true
    },
    "kernelspec": {
      "name": "python3",
      "display_name": "Python 3"
    },
    "language_info": {
      "name": "python"
    }
  },
  "cells": [
    {
      "cell_type": "markdown",
      "metadata": {
        "id": "view-in-github",
        "colab_type": "text"
      },
      "source": [
        "<a href=\"https://colab.research.google.com/github/UCDAyoung/DataAnalysisProgramming/blob/main/hwOfLecture2.ipynb\" target=\"_parent\"><img src=\"https://colab.research.google.com/assets/colab-badge.svg\" alt=\"Open In Colab\"/></a>"
      ]
    },
    {
      "cell_type": "code",
      "metadata": {
        "id": "HNPNzCabLo7S"
      },
      "source": [
        "import numpy as np\n",
        "import pandas as pd\n",
        "\n",
        "np.random.seed(0)"
      ],
      "execution_count": null,
      "outputs": []
    },
    {
      "cell_type": "markdown",
      "metadata": {
        "id": "7BZpwooJxpkj"
      },
      "source": [
        "# NumPy Exercises!\n",
        "Complete the solution code to have a desired output.\n",
        "\n",
        "**[Caution!]** Not allow to use iteration, such as for-loop.\n",
        "\n",
        "\n",
        "\n"
      ]
    },
    {
      "cell_type": "markdown",
      "metadata": {
        "id": "kXhonLDSK0_j"
      },
      "source": [
        "### 1. Create a 4×4 numpy array of all True boolean’s "
      ]
    },
    {
      "cell_type": "code",
      "metadata": {
        "colab": {
          "base_uri": "https://localhost:8080/"
        },
        "id": "wM9StYWNK0Xr",
        "outputId": "5709f63a-8931-4b5f-a48b-5e57c70fa508"
      },
      "source": [
        "# Input\n",
        "arr_size = (4, 4)\n",
        "\n",
        "# Solution\n",
        "bool_arr = np.full(arr_size,True,dtype=bool)\n",
        "\n",
        "# Print\n",
        "print(bool_arr)"
      ],
      "execution_count": null,
      "outputs": [
        {
          "output_type": "stream",
          "name": "stdout",
          "text": [
            "[[ True  True  True  True]\n",
            " [ True  True  True  True]\n",
            " [ True  True  True  True]\n",
            " [ True  True  True  True]]\n"
          ]
        }
      ]
    },
    {
      "cell_type": "markdown",
      "metadata": {
        "id": "pCTPSJIyMFAu"
      },
      "source": [
        "### 2. Extract all odd numbers from given `arr`"
      ]
    },
    {
      "cell_type": "code",
      "metadata": {
        "colab": {
          "base_uri": "https://localhost:8080/"
        },
        "id": "_XmWs6POMFuS",
        "outputId": "b11a2ebe-18ba-4f79-9d63-ba8e9f9aa9cd"
      },
      "source": [
        "# Input\n",
        "arr = np.arange(30)\n",
        "\n",
        "# Solution\n",
        "arr = arr[np.array([False,True,False,True,False,True,False,True,False,True,False,True,False,True,False,True,False,True,False,True,False,True,False,True,False,True,False,True,False,True])]\n",
        "\n",
        "# Print\n",
        "print(arr)"
      ],
      "execution_count": null,
      "outputs": [
        {
          "output_type": "stream",
          "name": "stdout",
          "text": [
            "[ 1  3  5  7  9 11 13 15 17 19 21 23 25 27 29]\n"
          ]
        }
      ]
    },
    {
      "cell_type": "markdown",
      "metadata": {
        "id": "OAanUPrlNj-N"
      },
      "source": [
        "### 3. Get the positions where elements of `a` and `b` match\n",
        "(hint, refer [np.where](https://numpy.org/doc/stable/reference/generated/numpy.where.html).)\n",
        "\n"
      ]
    },
    {
      "cell_type": "code",
      "metadata": {
        "colab": {
          "base_uri": "https://localhost:8080/"
        },
        "id": "4VryzVtxNniI",
        "outputId": "08b310dd-c879-485f-e472-14ae00416a35"
      },
      "source": [
        "# Input\n",
        "a = np.array([1, 2, 3, 2, 3, 4, 3, 4, 5, 6])\n",
        "b = np.array([7, 2, 10, 2, 7, 4, 9, 4, 9, 8])\n",
        "\n",
        "# Solution\n",
        "idx = np.where(a==b)\n",
        "\n",
        "# Print\n",
        "print(idx)\n",
        "#(array([1, 3, 5, 7]),)"
      ],
      "execution_count": 120,
      "outputs": [
        {
          "output_type": "stream",
          "name": "stdout",
          "text": [
            "(array([1, 3, 5, 7]),)\n"
          ]
        }
      ]
    },
    {
      "cell_type": "markdown",
      "metadata": {
        "id": "Golu0NHiZNq3"
      },
      "source": [
        "### 4. Find the mean, median, standard deviation of iris's `sepallength` (1st column)."
      ]
    },
    {
      "cell_type": "markdown",
      "metadata": {
        "id": "5M15AZWHbrQC"
      },
      "source": [
        ""
      ]
    },
    {
      "cell_type": "code",
      "metadata": {
        "colab": {
          "base_uri": "https://localhost:8080/"
        },
        "id": "0ng7wdvoZpJe",
        "outputId": "398abecf-1ac2-44b8-851b-c19ef5875304"
      },
      "source": [
        "# Input\n",
        "url = 'https://archive.ics.uci.edu/ml/machine-learning-databases/iris/iris.data'\n",
        "iris = np.genfromtxt(url, delimiter=',', dtype='object')\n",
        "sepallength = np.genfromtxt(url, delimiter=',', dtype='float', usecols=[0])\n",
        "\n",
        "# Solution\n",
        "mu = np.mean(sepallength,axis=0)\n",
        "med = np.median(sepallength,axis=0)\n",
        "std = np.std(sepallength,axis=0)\n",
        "\n",
        "\n",
        "# Print\n",
        "print(mu, med, std)"
      ],
      "execution_count": null,
      "outputs": [
        {
          "output_type": "stream",
          "name": "stdout",
          "text": [
            "5.843333333333334 5.8 0.8253012917851409\n"
          ]
        }
      ]
    },
    {
      "cell_type": "markdown",
      "metadata": {
        "id": "RIFj650ubDpr"
      },
      "source": [
        "### 5. Find the duplicate entries (2nd occurrence onwards) in the given numpy array and mark them as True. First time occurrences should be False.\n",
        "(hint, refer [np.unique](https://numpy.org/doc/stable/reference/generated/numpy.unique.html).)"
      ]
    },
    {
      "cell_type": "code",
      "metadata": {
        "colab": {
          "base_uri": "https://localhost:8080/"
        },
        "id": "W7u4Od_obJfd",
        "outputId": "b8db5e06-908e-4b80-a984-7b7719c9145c"
      },
      "source": [
        "# Input\n",
        "np.random.seed(100)\n",
        "a = np.random.randint(0, 5, 10)\n",
        "print('Array: ', a)\n",
        "\n",
        "# Solution\n",
        "## Create an all True array\n",
        "out = np.full(a.size,True,dtype=bool)\n",
        "\n",
        "#bool onoff 100만들어서, 해당 인덱스를 거칠 때 true이면 out을 false로 바꿔준다. trueaus \n",
        "onoff = [bool] \n",
        "for i in range(100):\n",
        "  onoff.append(True)\n",
        "\n",
        "for i in range(len(a)):\n",
        "  if onoff[a[i]]:\n",
        "    onoff[a[i]] = False \n",
        "    out[i] = False\n",
        "\n",
        "## Find the index positions of unique elements\n",
        "#unique_positions = \n",
        "\n",
        "## Mark those positions as False\n",
        "#out[unique_positions] \n",
        "\n",
        "print('Duplicate entrie: ', out)\n",
        "##answer\n",
        "#Array:  [0 0 3 0 2 4 2 2 2 2]\n",
        "#Duplicate entrie:  [False  True False  True False False  True  True  True  True]"
      ],
      "execution_count": null,
      "outputs": [
        {
          "output_type": "stream",
          "name": "stdout",
          "text": [
            "Array:  [0 0 3 0 2 4 2 2 2 2]\n",
            "Duplicate entrie:  [False  True False  True False False  True  True  True  True]\n"
          ]
        }
      ]
    },
    {
      "cell_type": "markdown",
      "metadata": {
        "id": "Yx8npG2qeCCH"
      },
      "source": [
        "# Pandas Exercises!\n",
        "Complete the solution code to have a desired output. \n",
        "\n",
        "\n",
        "\n"
      ]
    },
    {
      "cell_type": "markdown",
      "metadata": {
        "id": "AF3TdV0ZepwD"
      },
      "source": [
        "### 6. Combine `ser1` and `ser2` to form a dataframe."
      ]
    },
    {
      "cell_type": "code",
      "metadata": {
        "colab": {
          "base_uri": "https://localhost:8080/"
        },
        "id": "AIV2AZO1ekG0",
        "outputId": "98e6aedb-55f4-43e9-a6ba-e58e14ef9ce2"
      },
      "source": [
        "# Input\n",
        "ser1 = pd.Series(list('abcedfghijklmnopqrstuvwxyz'))\n",
        "ser2 = pd.Series(np.arange(26))\n",
        "\n",
        "ser1\n",
        "ser2\n",
        "# Solution \n",
        "d = {'col1' : ser1,'col2' : ser2}\n",
        "df = pd.DataFrame(data=d)\n",
        "\n",
        "# Print\n",
        "print(df.head())\n",
        "\n",
        "#answer \n",
        "#col1 col2\n",
        "#0 a 0\n",
        "#1 b 1\n",
        "#2 c 2\n",
        "#3 d 3\n",
        "#4 e 4 \n"
      ],
      "execution_count": null,
      "outputs": [
        {
          "output_type": "stream",
          "name": "stdout",
          "text": [
            "  col1  col2\n",
            "0    a     0\n",
            "1    b     1\n",
            "2    c     2\n",
            "3    e     3\n",
            "4    d     4\n"
          ]
        }
      ]
    },
    {
      "cell_type": "markdown",
      "metadata": {
        "id": "b6JSzVmsi6fo"
      },
      "source": [
        "### 7. Check if `df` has any missing values."
      ]
    },
    {
      "cell_type": "code",
      "metadata": {
        "colab": {
          "base_uri": "https://localhost:8080/"
        },
        "id": "dhqka6BNi8wF",
        "outputId": "2ffbe3fd-e851-43f5-910a-130fed796145"
      },
      "source": [
        "# Input\n",
        "df = pd.read_csv('https://raw.githubusercontent.com/selva86/datasets/master/Cars93_miss.csv')\n",
        "print(df.head())\n",
        "\n",
        "# Solution\n",
        "isNull = df.isnull().values.any()\n",
        "\n",
        "print('\\nIs there any missing value?: %s' %isNull)\n",
        "# Answer \n",
        "#  Manufacturer    Model     Type  ...  Weight   Origin           Make\n",
        "#0        Acura  Integra    Small  ...  2705.0  non-USA  Acura Integra\n",
        "#1          NaN   Legend  Midsize  ...  3560.0  non-USA   Acura Legend\n",
        "#2         Audi       90  Compact  ...  3375.0  non-USA        Audi 90\n",
        "#3         Audi      100  Midsize  ...  3405.0  non-USA       Audi 100\n",
        "#4          BMW     535i  Midsize  ...  3640.0  non-USA       BMW 535i\n",
        "#[5 rows x 27 columns]\n",
        "#Is there any missing value?: True\n"
      ],
      "execution_count": null,
      "outputs": [
        {
          "output_type": "stream",
          "name": "stdout",
          "text": [
            "  Manufacturer    Model     Type  ...  Weight   Origin           Make\n",
            "0        Acura  Integra    Small  ...  2705.0  non-USA  Acura Integra\n",
            "1          NaN   Legend  Midsize  ...  3560.0  non-USA   Acura Legend\n",
            "2         Audi       90  Compact  ...  3375.0  non-USA        Audi 90\n",
            "3         Audi      100  Midsize  ...  3405.0  non-USA       Audi 100\n",
            "4          BMW     535i  Midsize  ...  3640.0  non-USA       BMW 535i\n",
            "\n",
            "[5 rows x 27 columns]\n",
            "\n",
            "Is there any missing value?:True\n"
          ]
        }
      ]
    },
    {
      "cell_type": "markdown",
      "metadata": {
        "id": "0jhPg-fJff9y"
      },
      "source": [
        "### 8. Create a TimeSeries starting `2021-01-01` and 10 weekends (sundays) after that **having** random numbers as values?"
      ]
    },
    {
      "cell_type": "code",
      "metadata": {
        "colab": {
          "base_uri": "https://localhost:8080/"
        },
        "id": "GL6TjFcCfmpt",
        "outputId": "b706d113-3a14-48e1-a417-cf35a72efa9e"
      },
      "source": [
        "# Solution\n",
        "ser = pd.Series(pd.date_range(start='2021-01-01',periods=10,freq='W'))\n",
        "print(ser)\n",
        "#0   2021-01-03\n",
        "#1   2021-01-10\n",
        "#2   2021-01-17\n",
        "#3   2021-01-24\n",
        "#4   2021-01-31\n",
        "#5   2021-02-07\n",
        "#6   2021-02-14\n",
        "#7   2021-02-21\n",
        "#8   2021-02-28\n",
        "#9   2021-03-07\n",
        "#dtype: datetime64[ns] :  얘는 왜나오는거지?"
      ],
      "execution_count": 111,
      "outputs": [
        {
          "output_type": "stream",
          "name": "stdout",
          "text": [
            "0   2021-01-03\n",
            "1   2021-01-10\n",
            "2   2021-01-17\n",
            "3   2021-01-24\n",
            "4   2021-01-31\n",
            "5   2021-02-07\n",
            "6   2021-02-14\n",
            "7   2021-02-21\n",
            "8   2021-02-28\n",
            "9   2021-03-07\n",
            "dtype: datetime64[ns]\n"
          ]
        }
      ]
    },
    {
      "cell_type": "markdown",
      "metadata": {
        "id": "P1-wKPtmkcxe"
      },
      "source": [
        "### 9. In `df`, compute the mean price of every fruit using grouping function."
      ]
    },
    {
      "cell_type": "code",
      "metadata": {
        "colab": {
          "base_uri": "https://localhost:8080/"
        },
        "id": "7fa0q1N5kfbT",
        "outputId": "5755cdd0-6552-482c-afe2-d2ec4df1c497"
      },
      "source": [
        "#참고사이트 : https://rfriend.tistory.com/383 , http://doc.mindscale.kr/km/python/12.html\n",
        "# Input\n",
        "df = pd.DataFrame({'fruit': ['apple', 'banana', 'orange'] * 3,\n",
        "                   'rating': np.random.rand(9),\n",
        "                   'price': np.random.randint(0, 15, 9)})\n",
        "print(df)\n",
        "# Solution\n",
        "#1. fruit mean 값을 찾는다. \n",
        "#2. price만 뽑는다.\n",
        "df2 = df.groupby(['fruit']).mean()\n",
        "df2['price']\n",
        "\n",
        "\n",
        "# Answer\n",
        "#fruit\n",
        "#apple     5.666667\n",
        "#banana    7.333333\n",
        "#orange    7.000000\n",
        "#Name: price, dtype: float64"
      ],
      "execution_count": null,
      "outputs": [
        {
          "output_type": "stream",
          "name": "stdout",
          "text": [
            "    fruit    rating  price\n",
            "0   apple  0.657292      2\n",
            "1  banana  0.896313      6\n",
            "2  orange  0.476488      3\n",
            "3   apple  0.977116     14\n",
            "4  banana  0.951210      3\n",
            "5  orange  0.948137      6\n",
            "6   apple  0.607276     12\n",
            "7  banana  0.869623      0\n",
            "8  orange  0.775413      6\n"
          ]
        },
        {
          "output_type": "execute_result",
          "data": {
            "text/plain": [
              "fruit\n",
              "apple     9.333333\n",
              "banana    3.000000\n",
              "orange    5.000000\n",
              "Name: price, dtype: float64"
            ]
          },
          "metadata": {},
          "execution_count": 92
        }
      ]
    },
    {
      "cell_type": "markdown",
      "metadata": {
        "id": "ZSInSrZWldXS"
      },
      "source": [
        "### 10. Join two dataframes `df1` and `df2` for intersection items on `use_id`.\n",
        "For `df2`, please select only `use_id`, `platform`, `device` columns not all columns for merging."
      ]
    },
    {
      "cell_type": "code",
      "metadata": {
        "colab": {
          "base_uri": "https://localhost:8080/",
          "height": 424
        },
        "id": "gAMtcVrSllcc",
        "outputId": "64ea1451-fe2d-4116-9304-22d456000c4f"
      },
      "source": [
        "# 몰랐던 것들 \n",
        "#column 선택해서 출력하기\n",
        "#merge 관련 \n",
        "\n",
        "# Input\n",
        "base_path = 'https://raw.githubusercontent.com/shanealynn/Pandas-Merge-Tutorial/master/'\n",
        "df1 = pd.read_csv(base_path + 'user_usage.csv')\n",
        "df2 = pd.read_csv(base_path + 'user_device.csv')\n",
        "\n",
        "# Solution\n",
        "df2 = pd.DataFrame(df2,columns = ['use_id','platfrom','device'])\n",
        "df_right = pd.merge(df1,df2,on='use_id',how='right')\n",
        "df_right\n"
      ],
      "execution_count": 119,
      "outputs": [
        {
          "output_type": "execute_result",
          "data": {
            "text/html": [
              "<div>\n",
              "<style scoped>\n",
              "    .dataframe tbody tr th:only-of-type {\n",
              "        vertical-align: middle;\n",
              "    }\n",
              "\n",
              "    .dataframe tbody tr th {\n",
              "        vertical-align: top;\n",
              "    }\n",
              "\n",
              "    .dataframe thead th {\n",
              "        text-align: right;\n",
              "    }\n",
              "</style>\n",
              "<table border=\"1\" class=\"dataframe\">\n",
              "  <thead>\n",
              "    <tr style=\"text-align: right;\">\n",
              "      <th></th>\n",
              "      <th>outgoing_mins_per_month</th>\n",
              "      <th>outgoing_sms_per_month</th>\n",
              "      <th>monthly_mb</th>\n",
              "      <th>use_id</th>\n",
              "      <th>platfrom</th>\n",
              "      <th>device</th>\n",
              "    </tr>\n",
              "  </thead>\n",
              "  <tbody>\n",
              "    <tr>\n",
              "      <th>0</th>\n",
              "      <td>NaN</td>\n",
              "      <td>NaN</td>\n",
              "      <td>NaN</td>\n",
              "      <td>22782</td>\n",
              "      <td>NaN</td>\n",
              "      <td>iPhone7,2</td>\n",
              "    </tr>\n",
              "    <tr>\n",
              "      <th>1</th>\n",
              "      <td>NaN</td>\n",
              "      <td>NaN</td>\n",
              "      <td>NaN</td>\n",
              "      <td>22783</td>\n",
              "      <td>NaN</td>\n",
              "      <td>Nexus 5</td>\n",
              "    </tr>\n",
              "    <tr>\n",
              "      <th>2</th>\n",
              "      <td>NaN</td>\n",
              "      <td>NaN</td>\n",
              "      <td>NaN</td>\n",
              "      <td>22784</td>\n",
              "      <td>NaN</td>\n",
              "      <td>SM-G903F</td>\n",
              "    </tr>\n",
              "    <tr>\n",
              "      <th>3</th>\n",
              "      <td>NaN</td>\n",
              "      <td>NaN</td>\n",
              "      <td>NaN</td>\n",
              "      <td>22785</td>\n",
              "      <td>NaN</td>\n",
              "      <td>iPhone7,2</td>\n",
              "    </tr>\n",
              "    <tr>\n",
              "      <th>4</th>\n",
              "      <td>NaN</td>\n",
              "      <td>NaN</td>\n",
              "      <td>NaN</td>\n",
              "      <td>22786</td>\n",
              "      <td>NaN</td>\n",
              "      <td>ONE E1003</td>\n",
              "    </tr>\n",
              "    <tr>\n",
              "      <th>...</th>\n",
              "      <td>...</td>\n",
              "      <td>...</td>\n",
              "      <td>...</td>\n",
              "      <td>...</td>\n",
              "      <td>...</td>\n",
              "      <td>...</td>\n",
              "    </tr>\n",
              "    <tr>\n",
              "      <th>267</th>\n",
              "      <td>344.53</td>\n",
              "      <td>20.53</td>\n",
              "      <td>519.12</td>\n",
              "      <td>23049</td>\n",
              "      <td>NaN</td>\n",
              "      <td>SM-G900F</td>\n",
              "    </tr>\n",
              "    <tr>\n",
              "      <th>268</th>\n",
              "      <td>NaN</td>\n",
              "      <td>NaN</td>\n",
              "      <td>NaN</td>\n",
              "      <td>23050</td>\n",
              "      <td>NaN</td>\n",
              "      <td>iPhone7,2</td>\n",
              "    </tr>\n",
              "    <tr>\n",
              "      <th>269</th>\n",
              "      <td>NaN</td>\n",
              "      <td>NaN</td>\n",
              "      <td>NaN</td>\n",
              "      <td>23051</td>\n",
              "      <td>NaN</td>\n",
              "      <td>iPhone7,2</td>\n",
              "    </tr>\n",
              "    <tr>\n",
              "      <th>270</th>\n",
              "      <td>NaN</td>\n",
              "      <td>NaN</td>\n",
              "      <td>NaN</td>\n",
              "      <td>23052</td>\n",
              "      <td>NaN</td>\n",
              "      <td>iPhone8,4</td>\n",
              "    </tr>\n",
              "    <tr>\n",
              "      <th>271</th>\n",
              "      <td>42.75</td>\n",
              "      <td>46.83</td>\n",
              "      <td>5191.12</td>\n",
              "      <td>23053</td>\n",
              "      <td>NaN</td>\n",
              "      <td>Vodafone Smart ultra 6</td>\n",
              "    </tr>\n",
              "  </tbody>\n",
              "</table>\n",
              "<p>272 rows × 6 columns</p>\n",
              "</div>"
            ],
            "text/plain": [
              "     outgoing_mins_per_month  ...                  device\n",
              "0                        NaN  ...               iPhone7,2\n",
              "1                        NaN  ...                 Nexus 5\n",
              "2                        NaN  ...                SM-G903F\n",
              "3                        NaN  ...               iPhone7,2\n",
              "4                        NaN  ...               ONE E1003\n",
              "..                       ...  ...                     ...\n",
              "267                   344.53  ...                SM-G900F\n",
              "268                      NaN  ...               iPhone7,2\n",
              "269                      NaN  ...               iPhone7,2\n",
              "270                      NaN  ...               iPhone8,4\n",
              "271                    42.75  ...  Vodafone Smart ultra 6\n",
              "\n",
              "[272 rows x 6 columns]"
            ]
          },
          "metadata": {},
          "execution_count": 119
        }
      ]
    },
    {
      "cell_type": "code",
      "metadata": {
        "id": "cXbMXD93_2nI"
      },
      "source": [
        ""
      ],
      "execution_count": null,
      "outputs": []
    }
  ]
}